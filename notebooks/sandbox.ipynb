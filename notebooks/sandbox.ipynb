{
 "cells": [
  {
   "cell_type": "code",
   "execution_count": 1,
   "metadata": {},
   "outputs": [
    {
     "data": {
      "text/plain": [
       "<module 'data_loaders' from '/Users/hugofluhr/code/piriform-cortex-diversity/code/data_loaders.py'>"
      ]
     },
     "execution_count": 1,
     "metadata": {},
     "output_type": "execute_result"
    }
   ],
   "source": [
    "import pandas as pd\n",
    "\n",
    "import os.path as op\n",
    "import sys\n",
    "from importlib import reload\n",
    "\n",
    "sys.path.append(op.abspath('../code'))\n",
    "\n",
    "import data_loaders as dload\n",
    "reload(dload)"
   ]
  },
  {
   "cell_type": "code",
   "execution_count": 2,
   "metadata": {},
   "outputs": [],
   "source": [
    "data_path = \"/Users/hugofluhr/Library/CloudStorage/GoogleDrive-hugo.fluhr@gmail.com/My Drive/Piriform_neurons/data/\""
   ]
  },
  {
   "cell_type": "code",
   "execution_count": 3,
   "metadata": {},
   "outputs": [],
   "source": [
    "neuron_files = dload.get_neuron_files_in_dir(data_path)"
   ]
  },
  {
   "cell_type": "code",
   "execution_count": 4,
   "metadata": {},
   "outputs": [
    {
     "name": "stderr",
     "output_type": "stream",
     "text": [
      "/Users/hugofluhr/code/piriform-cortex-diversity/code/data_loaders.py:33: FutureWarning: Passing 'suffixes' which cause duplicate columns {'Collection_x'} in the result is deprecated and will raise a MergeError in a future version.\n",
      "  dendrite_df = dendrite_df.merge(feat_df, on = 'ID', how = 'outer')\n"
     ]
    },
    {
     "name": "stdout",
     "output_type": "stream",
     "text": [
      "Successfully converted data from 37 dendrites (30 features found).\n"
     ]
    },
    {
     "name": "stderr",
     "output_type": "stream",
     "text": [
      "/Users/hugofluhr/code/piriform-cortex-diversity/code/data_loaders.py:33: FutureWarning: Passing 'suffixes' which cause duplicate columns {'Collection_x'} in the result is deprecated and will raise a MergeError in a future version.\n",
      "  dendrite_df = dendrite_df.merge(feat_df, on = 'ID', how = 'outer')\n"
     ]
    },
    {
     "name": "stdout",
     "output_type": "stream",
     "text": [
      "Successfully converted data from 51 dendrites (30 features found).\n"
     ]
    },
    {
     "name": "stderr",
     "output_type": "stream",
     "text": [
      "/Users/hugofluhr/code/piriform-cortex-diversity/code/data_loaders.py:33: FutureWarning: Passing 'suffixes' which cause duplicate columns {'Collection_x'} in the result is deprecated and will raise a MergeError in a future version.\n",
      "  dendrite_df = dendrite_df.merge(feat_df, on = 'ID', how = 'outer')\n"
     ]
    },
    {
     "name": "stdout",
     "output_type": "stream",
     "text": [
      "Successfully converted data from 46 dendrites (30 features found).\n"
     ]
    },
    {
     "name": "stderr",
     "output_type": "stream",
     "text": [
      "/Users/hugofluhr/code/piriform-cortex-diversity/code/data_loaders.py:33: FutureWarning: Passing 'suffixes' which cause duplicate columns {'Collection_x'} in the result is deprecated and will raise a MergeError in a future version.\n",
      "  dendrite_df = dendrite_df.merge(feat_df, on = 'ID', how = 'outer')\n"
     ]
    },
    {
     "name": "stdout",
     "output_type": "stream",
     "text": [
      "Successfully converted data from 66 dendrites (30 features found).\n"
     ]
    },
    {
     "name": "stderr",
     "output_type": "stream",
     "text": [
      "/Users/hugofluhr/code/piriform-cortex-diversity/code/data_loaders.py:33: FutureWarning: Passing 'suffixes' which cause duplicate columns {'Collection_x'} in the result is deprecated and will raise a MergeError in a future version.\n",
      "  dendrite_df = dendrite_df.merge(feat_df, on = 'ID', how = 'outer')\n"
     ]
    },
    {
     "name": "stdout",
     "output_type": "stream",
     "text": [
      "Successfully converted data from 46 dendrites (30 features found).\n"
     ]
    },
    {
     "name": "stderr",
     "output_type": "stream",
     "text": [
      "/Users/hugofluhr/code/piriform-cortex-diversity/code/data_loaders.py:33: FutureWarning: Passing 'suffixes' which cause duplicate columns {'Collection_x'} in the result is deprecated and will raise a MergeError in a future version.\n",
      "  dendrite_df = dendrite_df.merge(feat_df, on = 'ID', how = 'outer')\n"
     ]
    },
    {
     "name": "stdout",
     "output_type": "stream",
     "text": [
      "Successfully converted data from 27 dendrites (30 features found).\n"
     ]
    },
    {
     "name": "stderr",
     "output_type": "stream",
     "text": [
      "/Users/hugofluhr/code/piriform-cortex-diversity/code/data_loaders.py:33: FutureWarning: Passing 'suffixes' which cause duplicate columns {'Collection_x'} in the result is deprecated and will raise a MergeError in a future version.\n",
      "  dendrite_df = dendrite_df.merge(feat_df, on = 'ID', how = 'outer')\n"
     ]
    },
    {
     "name": "stdout",
     "output_type": "stream",
     "text": [
      "Successfully converted data from 33 dendrites (30 features found).\n"
     ]
    },
    {
     "name": "stderr",
     "output_type": "stream",
     "text": [
      "/Users/hugofluhr/code/piriform-cortex-diversity/code/data_loaders.py:33: FutureWarning: Passing 'suffixes' which cause duplicate columns {'Collection_x'} in the result is deprecated and will raise a MergeError in a future version.\n",
      "  dendrite_df = dendrite_df.merge(feat_df, on = 'ID', how = 'outer')\n"
     ]
    },
    {
     "name": "stdout",
     "output_type": "stream",
     "text": [
      "Successfully converted data from 21 dendrites (30 features found).\n"
     ]
    },
    {
     "name": "stderr",
     "output_type": "stream",
     "text": [
      "/Users/hugofluhr/code/piriform-cortex-diversity/code/data_loaders.py:33: FutureWarning: Passing 'suffixes' which cause duplicate columns {'Collection_x'} in the result is deprecated and will raise a MergeError in a future version.\n",
      "  dendrite_df = dendrite_df.merge(feat_df, on = 'ID', how = 'outer')\n"
     ]
    },
    {
     "name": "stdout",
     "output_type": "stream",
     "text": [
      "Successfully converted data from 74 dendrites (30 features found).\n"
     ]
    },
    {
     "name": "stderr",
     "output_type": "stream",
     "text": [
      "/Users/hugofluhr/code/piriform-cortex-diversity/code/data_loaders.py:33: FutureWarning: Passing 'suffixes' which cause duplicate columns {'Collection_x'} in the result is deprecated and will raise a MergeError in a future version.\n",
      "  dendrite_df = dendrite_df.merge(feat_df, on = 'ID', how = 'outer')\n"
     ]
    },
    {
     "name": "stdout",
     "output_type": "stream",
     "text": [
      "Successfully converted data from 23 dendrites (30 features found).\n"
     ]
    },
    {
     "name": "stderr",
     "output_type": "stream",
     "text": [
      "/Users/hugofluhr/code/piriform-cortex-diversity/code/data_loaders.py:33: FutureWarning: Passing 'suffixes' which cause duplicate columns {'Collection_x'} in the result is deprecated and will raise a MergeError in a future version.\n",
      "  dendrite_df = dendrite_df.merge(feat_df, on = 'ID', how = 'outer')\n"
     ]
    },
    {
     "name": "stdout",
     "output_type": "stream",
     "text": [
      "Successfully converted data from 59 dendrites (30 features found).\n"
     ]
    },
    {
     "name": "stderr",
     "output_type": "stream",
     "text": [
      "/Users/hugofluhr/code/piriform-cortex-diversity/code/data_loaders.py:33: FutureWarning: Passing 'suffixes' which cause duplicate columns {'Collection_x'} in the result is deprecated and will raise a MergeError in a future version.\n",
      "  dendrite_df = dendrite_df.merge(feat_df, on = 'ID', how = 'outer')\n"
     ]
    },
    {
     "name": "stdout",
     "output_type": "stream",
     "text": [
      "Successfully converted data from 32 dendrites (30 features found).\n"
     ]
    },
    {
     "name": "stderr",
     "output_type": "stream",
     "text": [
      "/Users/hugofluhr/code/piriform-cortex-diversity/code/data_loaders.py:33: FutureWarning: Passing 'suffixes' which cause duplicate columns {'Collection_x'} in the result is deprecated and will raise a MergeError in a future version.\n",
      "  dendrite_df = dendrite_df.merge(feat_df, on = 'ID', how = 'outer')\n"
     ]
    },
    {
     "name": "stdout",
     "output_type": "stream",
     "text": [
      "Successfully converted data from 87 dendrites (30 features found).\n"
     ]
    },
    {
     "name": "stderr",
     "output_type": "stream",
     "text": [
      "/Users/hugofluhr/code/piriform-cortex-diversity/code/data_loaders.py:33: FutureWarning: Passing 'suffixes' which cause duplicate columns {'Collection_x'} in the result is deprecated and will raise a MergeError in a future version.\n",
      "  dendrite_df = dendrite_df.merge(feat_df, on = 'ID', how = 'outer')\n"
     ]
    },
    {
     "name": "stdout",
     "output_type": "stream",
     "text": [
      "Successfully converted data from 62 dendrites (30 features found).\n"
     ]
    },
    {
     "name": "stderr",
     "output_type": "stream",
     "text": [
      "/Users/hugofluhr/code/piriform-cortex-diversity/code/data_loaders.py:33: FutureWarning: Passing 'suffixes' which cause duplicate columns {'Collection_x'} in the result is deprecated and will raise a MergeError in a future version.\n",
      "  dendrite_df = dendrite_df.merge(feat_df, on = 'ID', how = 'outer')\n"
     ]
    },
    {
     "name": "stdout",
     "output_type": "stream",
     "text": [
      "Successfully converted data from 87 dendrites (30 features found).\n"
     ]
    }
   ],
   "source": [
    "neurons = dload.load_neurons(neuron_files[:15])"
   ]
  },
  {
   "cell_type": "code",
   "execution_count": 5,
   "metadata": {},
   "outputs": [
    {
     "name": "stderr",
     "output_type": "stream",
     "text": [
      "/Users/hugofluhr/code/piriform-cortex-diversity/code/neuron.py:38: FutureWarning: The default value of numeric_only in DataFrame.mean is deprecated. In a future version, it will default to False. In addition, specifying 'numeric_only=None' is deprecated. Select only valid columns or specify the value of numeric_only to silence this warning.\n",
      "  tmp_df = feat_df.mean(axis = 0)\n",
      "/Users/hugofluhr/code/piriform-cortex-diversity/code/neuron.py:43: FutureWarning: The default value of numeric_only in DataFrame.std is deprecated. In a future version, it will default to False. In addition, specifying 'numeric_only=None' is deprecated. Select only valid columns or specify the value of numeric_only to silence this warning.\n",
      "  tmp_df = feat_df.std(axis = 0)\n"
     ]
    },
    {
     "data": {
      "text/plain": [
       "{'id': '220803c2',\n",
       " 'Filament BoundingBoxAA Length X': 397.6719970703125,\n",
       " 'Filament BoundingBoxAA Length Y': 367.5190124511719,\n",
       " 'Filament BoundingBoxAA Length Z': 74.59809875488281,\n",
       " 'Filament BoundingBoxOO Length A': 78.40119934082031,\n",
       " 'Filament BoundingBoxOO Length B': 300.37298583984375,\n",
       " 'Filament BoundingBoxOO Length C': 481.83599853515625,\n",
       " 'Filament Dendrite Length (sum)': 3199.409912109375,\n",
       " 'Filament Distance from Origin': 588.3590087890625,\n",
       " 'Depth-mean': 1.135135135135135,\n",
       " 'Level-mean': 1.7027027027027026,\n",
       " 'Dendrite Area-mean': 1062.0495782542873,\n",
       " 'Dendrite Branching Angle-mean': 28.994428753852844,\n",
       " 'Dendrite Branching Angle B-mean': 20.89605456429559,\n",
       " 'Dendrite Length-mean': 86.47060660735981,\n",
       " 'Dendrite Orientation Angle-mean': -50.01503596434722,\n",
       " 'Dendrite Position X_x-mean': 496.4487873799092,\n",
       " 'Dendrite Position Y_x-mean': 313.60843431627427,\n",
       " 'Dendrite Position Z_x-mean': 37.42201598914894,\n",
       " 'Dendrite Straightness-mean': 0.9134462975166939,\n",
       " 'Depth-std': 0.8551205945544939,\n",
       " 'Level-std': 0.8118861737701654,\n",
       " 'Dendrite Area-std': 823.3505458036913,\n",
       " 'Dendrite Branching Angle-std': 37.28904719805916,\n",
       " 'Dendrite Branching Angle B-std': 17.7134377864384,\n",
       " 'Dendrite Length-std': 59.54582255031941,\n",
       " 'Dendrite Orientation Angle-std': 66.86278567456759,\n",
       " 'Dendrite Position X_x-std': 67.70810289639229,\n",
       " 'Dendrite Position Y_x-std': 69.23843497746869,\n",
       " 'Dendrite Position Z_x-std': 15.140130335999418,\n",
       " 'Dendrite Straightness-std': 0.08841133693525094,\n",
       " 'Depth-min': 0,\n",
       " 'Level-min': 1,\n",
       " 'Dendrite Area-min': 8.062529563903809,\n",
       " 'Dendrite Branching Angle-min': 0.0,\n",
       " 'Dendrite Branching Angle B-min': 0.0,\n",
       " 'Dendrite Length-min': 1.5496000051498413,\n",
       " 'Dendrite Orientation Angle-min': -134.4720001220703,\n",
       " 'Dendrite Position X_x-min': 391.1310119628906,\n",
       " 'Collection_x-min': 'Dendrite Position',\n",
       " 'Dendrite Position Y_x-min': 167.8090057373047,\n",
       " 'Dendrite Position Z_x-min': 18.79159927368164,\n",
       " 'Dendrite Straightness-min': 0.562371015548706,\n",
       " 'Depth-max': 3,\n",
       " 'Level-max': 4,\n",
       " 'Dendrite Area-max': 3227.550048828125,\n",
       " 'Dendrite Branching Angle-max': 119.19300079345703,\n",
       " 'Dendrite Branching Angle B-max': 62.825401306152344,\n",
       " 'Dendrite Length-max': 226.34500122070312,\n",
       " 'Dendrite Orientation Angle-max': 152.82699584960938,\n",
       " 'Dendrite Position X_x-max': 641.0780029296875,\n",
       " 'Collection_x-max': 'Dendrite Position',\n",
       " 'Dendrite Position Y_x-max': 466.3970031738281,\n",
       " 'Dendrite Position Z_x-max': 72.08609771728516,\n",
       " 'Dendrite Straightness-max': 0.99822598695755,\n",
       " 'dendrites-count': 37,\n",
       " 'Basal-count': 23,\n",
       " 'Apical-count': 14,\n",
       " 'Basal-Apical-ratio': 1.6428571428571428,\n",
       " 'level_1-count': 18}"
      ]
     },
     "execution_count": 5,
     "metadata": {},
     "output_type": "execute_result"
    }
   ],
   "source": [
    "neurons[0].get_feature_dict()"
   ]
  },
  {
   "cell_type": "code",
   "execution_count": 10,
   "metadata": {},
   "outputs": [
    {
     "name": "stderr",
     "output_type": "stream",
     "text": [
      "/Users/hugofluhr/code/piriform-cortex-diversity/code/neuron.py:38: FutureWarning: The default value of numeric_only in DataFrame.mean is deprecated. In a future version, it will default to False. In addition, specifying 'numeric_only=None' is deprecated. Select only valid columns or specify the value of numeric_only to silence this warning.\n",
      "  tmp_df = feat_df.mean(axis = 0)\n",
      "/Users/hugofluhr/code/piriform-cortex-diversity/code/neuron.py:43: FutureWarning: The default value of numeric_only in DataFrame.std is deprecated. In a future version, it will default to False. In addition, specifying 'numeric_only=None' is deprecated. Select only valid columns or specify the value of numeric_only to silence this warning.\n",
      "  tmp_df = feat_df.std(axis = 0)\n"
     ]
    },
    {
     "ename": "TypeError",
     "evalue": "Index(...) must be called with a collection of some kind, 0 was passed",
     "output_type": "error",
     "traceback": [
      "\u001b[0;31m---------------------------------------------------------------------------\u001b[0m",
      "\u001b[0;31mTypeError\u001b[0m                                 Traceback (most recent call last)",
      "Cell \u001b[0;32mIn [10], line 1\u001b[0m\n\u001b[0;32m----> 1\u001b[0m pd\u001b[39m.\u001b[39;49mDataFrame(neurons[\u001b[39m0\u001b[39;49m]\u001b[39m.\u001b[39;49mget_feature_dict(),index\u001b[39m=\u001b[39;49m\u001b[39m0\u001b[39;49m)\n",
      "File \u001b[0;32m~/miniconda3/envs/gsp/lib/python3.11/site-packages/pandas/core/frame.py:663\u001b[0m, in \u001b[0;36mDataFrame.__init__\u001b[0;34m(self, data, index, columns, dtype, copy)\u001b[0m\n\u001b[1;32m    657\u001b[0m     mgr \u001b[39m=\u001b[39m \u001b[39mself\u001b[39m\u001b[39m.\u001b[39m_init_mgr(\n\u001b[1;32m    658\u001b[0m         data, axes\u001b[39m=\u001b[39m{\u001b[39m\"\u001b[39m\u001b[39mindex\u001b[39m\u001b[39m\"\u001b[39m: index, \u001b[39m\"\u001b[39m\u001b[39mcolumns\u001b[39m\u001b[39m\"\u001b[39m: columns}, dtype\u001b[39m=\u001b[39mdtype, copy\u001b[39m=\u001b[39mcopy\n\u001b[1;32m    659\u001b[0m     )\n\u001b[1;32m    661\u001b[0m \u001b[39melif\u001b[39;00m \u001b[39misinstance\u001b[39m(data, \u001b[39mdict\u001b[39m):\n\u001b[1;32m    662\u001b[0m     \u001b[39m# GH#38939 de facto copy defaults to False only in non-dict cases\u001b[39;00m\n\u001b[0;32m--> 663\u001b[0m     mgr \u001b[39m=\u001b[39m dict_to_mgr(data, index, columns, dtype\u001b[39m=\u001b[39;49mdtype, copy\u001b[39m=\u001b[39;49mcopy, typ\u001b[39m=\u001b[39;49mmanager)\n\u001b[1;32m    664\u001b[0m \u001b[39melif\u001b[39;00m \u001b[39misinstance\u001b[39m(data, ma\u001b[39m.\u001b[39mMaskedArray):\n\u001b[1;32m    665\u001b[0m     \u001b[39mimport\u001b[39;00m \u001b[39mnumpy\u001b[39;00m\u001b[39m.\u001b[39;00m\u001b[39mma\u001b[39;00m\u001b[39m.\u001b[39;00m\u001b[39mmrecords\u001b[39;00m \u001b[39mas\u001b[39;00m \u001b[39mmrecords\u001b[39;00m\n",
      "File \u001b[0;32m~/miniconda3/envs/gsp/lib/python3.11/site-packages/pandas/core/internals/construction.py:493\u001b[0m, in \u001b[0;36mdict_to_mgr\u001b[0;34m(data, index, columns, dtype, typ, copy)\u001b[0m\n\u001b[1;32m    489\u001b[0m     \u001b[39melse\u001b[39;00m:\n\u001b[1;32m    490\u001b[0m         \u001b[39m# dtype check to exclude e.g. range objects, scalars\u001b[39;00m\n\u001b[1;32m    491\u001b[0m         arrays \u001b[39m=\u001b[39m [x\u001b[39m.\u001b[39mcopy() \u001b[39mif\u001b[39;00m \u001b[39mhasattr\u001b[39m(x, \u001b[39m\"\u001b[39m\u001b[39mdtype\u001b[39m\u001b[39m\"\u001b[39m) \u001b[39melse\u001b[39;00m x \u001b[39mfor\u001b[39;00m x \u001b[39min\u001b[39;00m arrays]\n\u001b[0;32m--> 493\u001b[0m \u001b[39mreturn\u001b[39;00m arrays_to_mgr(arrays, columns, index, dtype\u001b[39m=\u001b[39;49mdtype, typ\u001b[39m=\u001b[39;49mtyp, consolidate\u001b[39m=\u001b[39;49mcopy)\n",
      "File \u001b[0;32m~/miniconda3/envs/gsp/lib/python3.11/site-packages/pandas/core/internals/construction.py:120\u001b[0m, in \u001b[0;36marrays_to_mgr\u001b[0;34m(arrays, columns, index, dtype, verify_integrity, typ, consolidate)\u001b[0m\n\u001b[1;32m    118\u001b[0m     index \u001b[39m=\u001b[39m _extract_index(arrays)\n\u001b[1;32m    119\u001b[0m \u001b[39melse\u001b[39;00m:\n\u001b[0;32m--> 120\u001b[0m     index \u001b[39m=\u001b[39m ensure_index(index)\n\u001b[1;32m    122\u001b[0m \u001b[39m# don't force copy because getting jammed in an ndarray anyway\u001b[39;00m\n\u001b[1;32m    123\u001b[0m arrays \u001b[39m=\u001b[39m _homogenize(arrays, index, dtype)\n",
      "File \u001b[0;32m~/miniconda3/envs/gsp/lib/python3.11/site-packages/pandas/core/indexes/base.py:7376\u001b[0m, in \u001b[0;36mensure_index\u001b[0;34m(index_like, copy)\u001b[0m\n\u001b[1;32m   7374\u001b[0m         \u001b[39mreturn\u001b[39;00m Index\u001b[39m.\u001b[39m_with_infer(index_like, copy\u001b[39m=\u001b[39mcopy, tupleize_cols\u001b[39m=\u001b[39m\u001b[39mFalse\u001b[39;00m)\n\u001b[1;32m   7375\u001b[0m \u001b[39melse\u001b[39;00m:\n\u001b[0;32m-> 7376\u001b[0m     \u001b[39mreturn\u001b[39;00m Index\u001b[39m.\u001b[39;49m_with_infer(index_like, copy\u001b[39m=\u001b[39;49mcopy)\n",
      "File \u001b[0;32m~/miniconda3/envs/gsp/lib/python3.11/site-packages/pandas/core/indexes/base.py:717\u001b[0m, in \u001b[0;36mIndex._with_infer\u001b[0;34m(cls, *args, **kwargs)\u001b[0m\n\u001b[1;32m    715\u001b[0m \u001b[39mwith\u001b[39;00m warnings\u001b[39m.\u001b[39mcatch_warnings():\n\u001b[1;32m    716\u001b[0m     warnings\u001b[39m.\u001b[39mfilterwarnings(\u001b[39m\"\u001b[39m\u001b[39mignore\u001b[39m\u001b[39m\"\u001b[39m, \u001b[39m\"\u001b[39m\u001b[39m.*the Index constructor\u001b[39m\u001b[39m\"\u001b[39m, \u001b[39mFutureWarning\u001b[39;00m)\n\u001b[0;32m--> 717\u001b[0m     result \u001b[39m=\u001b[39m \u001b[39mcls\u001b[39;49m(\u001b[39m*\u001b[39;49margs, \u001b[39m*\u001b[39;49m\u001b[39m*\u001b[39;49mkwargs)\n\u001b[1;32m    719\u001b[0m \u001b[39mif\u001b[39;00m result\u001b[39m.\u001b[39mdtype \u001b[39m==\u001b[39m _dtype_obj \u001b[39mand\u001b[39;00m \u001b[39mnot\u001b[39;00m result\u001b[39m.\u001b[39m_is_multi:\n\u001b[1;32m    720\u001b[0m     \u001b[39m# error: Argument 1 to \"maybe_convert_objects\" has incompatible type\u001b[39;00m\n\u001b[1;32m    721\u001b[0m     \u001b[39m# \"Union[ExtensionArray, ndarray[Any, Any]]\"; expected\u001b[39;00m\n\u001b[1;32m    722\u001b[0m     \u001b[39m# \"ndarray[Any, Any]\"\u001b[39;00m\n\u001b[1;32m    723\u001b[0m     values \u001b[39m=\u001b[39m lib\u001b[39m.\u001b[39mmaybe_convert_objects(result\u001b[39m.\u001b[39m_values)  \u001b[39m# type: ignore[arg-type]\u001b[39;00m\n",
      "File \u001b[0;32m~/miniconda3/envs/gsp/lib/python3.11/site-packages/pandas/core/indexes/base.py:546\u001b[0m, in \u001b[0;36mIndex.__new__\u001b[0;34m(cls, data, dtype, copy, name, tupleize_cols, **kwargs)\u001b[0m\n\u001b[1;32m    543\u001b[0m     \u001b[39mreturn\u001b[39;00m klass\u001b[39m.\u001b[39m_simple_new(arr, name)\n\u001b[1;32m    545\u001b[0m \u001b[39melif\u001b[39;00m is_scalar(data):\n\u001b[0;32m--> 546\u001b[0m     \u001b[39mraise\u001b[39;00m \u001b[39mcls\u001b[39m\u001b[39m.\u001b[39m_scalar_data_error(data)\n\u001b[1;32m    547\u001b[0m \u001b[39melif\u001b[39;00m \u001b[39mhasattr\u001b[39m(data, \u001b[39m\"\u001b[39m\u001b[39m__array__\u001b[39m\u001b[39m\"\u001b[39m):\n\u001b[1;32m    548\u001b[0m     \u001b[39mreturn\u001b[39;00m Index(np\u001b[39m.\u001b[39masarray(data), dtype\u001b[39m=\u001b[39mdtype, copy\u001b[39m=\u001b[39mcopy, name\u001b[39m=\u001b[39mname, \u001b[39m*\u001b[39m\u001b[39m*\u001b[39mkwargs)\n",
      "\u001b[0;31mTypeError\u001b[0m: Index(...) must be called with a collection of some kind, 0 was passed"
     ]
    }
   ],
   "source": [
    "pd.DataFrame(neurons[0].get_feature_dict(),index=0)"
   ]
  },
  {
   "cell_type": "code",
   "execution_count": null,
   "metadata": {},
   "outputs": [],
   "source": []
  }
 ],
 "metadata": {
  "kernelspec": {
   "display_name": "Python 3.11.0 ('gsp')",
   "language": "python",
   "name": "python3"
  },
  "language_info": {
   "codemirror_mode": {
    "name": "ipython",
    "version": 3
   },
   "file_extension": ".py",
   "mimetype": "text/x-python",
   "name": "python",
   "nbconvert_exporter": "python",
   "pygments_lexer": "ipython3",
   "version": "3.11.0"
  },
  "orig_nbformat": 4,
  "vscode": {
   "interpreter": {
    "hash": "344309065a7b8323a53626e84f8a7a56fb2896813ca0810cb9da9272445a8c8d"
   }
  }
 },
 "nbformat": 4,
 "nbformat_minor": 2
}
